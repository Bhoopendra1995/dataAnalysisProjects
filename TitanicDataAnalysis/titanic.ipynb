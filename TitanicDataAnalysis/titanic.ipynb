{
  "cells": [
    {
      "metadata": {
        "_uuid": "4a656bb2133c14a770e0dcddb3873ca5bedfb955",
        "_cell_guid": "4acefc09-e527-9c24-cd8b-3da6894dc7b1"
      },
      "cell_type": "markdown",
      "source": "# A analysis of titanic data\n"
    },
    {
      "metadata": {
        "_execution_state": "idle",
        "_uuid": "f10823535015f0d88a59d2c68d3088198933fc18",
        "collapsed": true,
        "_cell_guid": "07a62e20-6c6e-3475-531e-b59e2f20b0b7",
        "trusted": false
      },
      "cell_type": "code",
      "source": "# Imports\n\n# pandas\nimport pandas as pd\nfrom pandas import Series,DataFrame\n\n# numpy, matplotlib, seaborn\nimport numpy as np\nimport matplotlib.pyplot as plt\nimport seaborn as sns\nsns.set_style('whitegrid')\n%matplotlib inline\n\n# machine learning\nfrom sklearn.linear_model import LogisticRegression\nfrom sklearn.svm import SVC, LinearSVC\nfrom sklearn.ensemble import RandomForestClassifier\nfrom sklearn.neighbors import KNeighborsClassifier\nfrom sklearn.naive_bayes import GaussianNB",
      "execution_count": null,
      "outputs": []
    },
    {
      "metadata": {
        "_execution_state": "idle",
        "_uuid": "5c4718408166946d563c5cb16fdc59d1cd8bfd64",
        "_cell_guid": "61ddaa5d-da97-549d-4a0f-9ba185c5908c",
        "trusted": false,
        "collapsed": true
      },
      "cell_type": "code",
      "source": "# get titanic & test csv files as a DataFrame\ntitanic_df = pd.read_csv(\"../input/train.csv\")\ntest_df    = pd.read_csv(\"../input/test.csv\")\n\n# preview the data\ntitanic_df.head()",
      "execution_count": null,
      "outputs": []
    },
    {
      "metadata": {
        "_execution_state": "idle",
        "_uuid": "1cc710254a19a4387b1329f4e39477b97edef03f",
        "_cell_guid": "02f980cb-9334-fd92-6899-051a9159d863",
        "trusted": false,
        "collapsed": true
      },
      "cell_type": "code",
      "source": "titanic_df.info()\nprint(\"______________-------------------******************\")\ntest_df.info()",
      "execution_count": null,
      "outputs": []
    },
    {
      "metadata": {
        "_execution_state": "idle",
        "_uuid": "43044e4d625aabf9ec9219b98b3c8f7793f6dda7",
        "_cell_guid": "5c385e21-db21-b1cd-4864-638eadc764fc",
        "trusted": false,
        "collapsed": true
      },
      "cell_type": "code",
      "source": "titanic_df= titanic_df.drop(['PassengerId','Name','Ticket'],axis=1)\ntest_df = test_df.drop(['PassengerId','Name','Ticket'],axis=1)",
      "execution_count": null,
      "outputs": []
    },
    {
      "metadata": {
        "_execution_state": "idle",
        "_uuid": "37ad68b8867487336bd8aef90a0fa706c8989630",
        "collapsed": true,
        "_cell_guid": "4bb4ffbc-9afd-4973-b6c0-e8f07bf5d4b6",
        "trusted": false
      },
      "cell_type": "code",
      "source": "titanic_df['Embarked']= titanic_df['Embarked'].fillna('S')",
      "execution_count": null,
      "outputs": []
    },
    {
      "metadata": {
        "_execution_state": "idle",
        "_uuid": "c6d361e3a71f86acdc7b9c3326c59f7f1e8b09e1",
        "_cell_guid": "9c09fa99-eb1d-2a09-90ca-9a047b092cd9",
        "trusted": false,
        "collapsed": true
      },
      "cell_type": "code",
      "source": "sns.factorplot(data=titanic_df, x='Embarked' , y='Survived')",
      "execution_count": null,
      "outputs": []
    },
    {
      "metadata": {
        "_execution_state": "idle",
        "_uuid": "463c3e5aa1c98644ced4ec6c9a2649a3fac52b0f",
        "_cell_guid": "8a961e05-14d8-9da1-c546-82d49a14f6ff",
        "trusted": false,
        "collapsed": true
      },
      "cell_type": "code",
      "source": "sns.countplot(x='Embarked', data=titanic_df)",
      "execution_count": null,
      "outputs": []
    },
    {
      "metadata": {
        "_execution_state": "idle",
        "_uuid": "03df5346baae125957947990f72f89f1660d8ecd",
        "_cell_guid": "63156acc-31ae-8b36-de55-0b79dcb26959",
        "trusted": false,
        "collapsed": true
      },
      "cell_type": "code",
      "source": "sns.countplot(x='Survived',hue='Embarked',data=titanic_df, order=[1,0])",
      "execution_count": null,
      "outputs": []
    },
    {
      "metadata": {
        "_execution_state": "idle",
        "_uuid": "77fb239e4dc4809e61b99397929dd84b9bc55b54",
        "_cell_guid": "a82bb0bd-160a-f6a0-15be-167a0362f452",
        "trusted": false,
        "collapsed": true
      },
      "cell_type": "code",
      "source": "emMean= titanic_df[['Embarked','Survived']].groupby(['Embarked'],as_index=False).mean()\nsns.barplot(x='Embarked',y='Survived',data=emMean,order=['S','C','Q'])",
      "execution_count": null,
      "outputs": []
    },
    {
      "metadata": {
        "_execution_state": "idle",
        "_uuid": "f8c3c369608f7cde315f4d5d502fd10c723aae63",
        "collapsed": true,
        "_cell_guid": "4f2bc008-1be1-ec44-1ac6-e1003ffd7ba3",
        "trusted": false
      },
      "cell_type": "code",
      "source": "#embarked\nembarkDummy_titanic= pd.get_dummies(titanic_df['Embarked'])\nembarkDummy_titanic.drop(['S'],axis=1,inplace=True)\n\nembarkDummy_test= pd.get_dummies(test_df['Embarked'])\nembarkDummy_test.drop(['S'], axis=1, inplace= True)\n\ntitanic_df = titanic_df.join(embarkDummy_titanic)\ntest_df= test_df.join(embarkDummy_test)\n\ntitanic_df.drop(['Embarked'],axis=1,inplace=True)\ntest_df.drop(['Embarked'],axis=1,inplace=True)",
      "execution_count": null,
      "outputs": []
    },
    {
      "metadata": {
        "_execution_state": "idle",
        "_uuid": "7535e778aa41f80450b12e098349fe9810633f3a",
        "collapsed": true,
        "_cell_guid": "0514d611-13cd-a4b3-6f13-505364cb6717",
        "trusted": false
      },
      "cell_type": "code",
      "source": "#fare\ntest_df['Fare'].fillna(test_df['Fare'].median(),inplace= True)\n\nfare_survived= titanic_df['Fare'][titanic_df['Survived']==1]\nfare_not_survived= titanic_df['Fare'][titanic_df['Survived']==0]\n\navg= DataFrame([fare_not_survived.mean(), fare_survived.mean()])\nstd= DataFrame([fare_not_survived.std(), fare_survived.std()])\n\navg.index.names = std.index.names = [\"Survived\"]\navg.plot(yerr=std,kind='bar',legend=False)",
      "execution_count": null,
      "outputs": []
    },
    {
      "metadata": {
        "_execution_state": "idle",
        "_uuid": "49ba4289b95f7f2fa268bc4b06d754d63e858b49",
        "collapsed": true,
        "_cell_guid": "e1412269-73da-c98a-5497-14e20b378ebd",
        "trusted": false
      },
      "cell_type": "code",
      "source": "#Age\nfig, (axis1,axis2) = plt.subplots(1,2,figsize=(15,4))\n\ntitanic_age_mean= titanic_df['Age'].mean()\ntitanic_age_std= titanic_df['Age'].std()\ntitanic_nan_count= titanic_df['Age'].isnull().sum()\n \ntest_age_mean= test_df['Age'].mean()\ntest_age_std= test_df['Age'].std()\ntest_nan_count= test_df['Age'].isnull().sum()\n\ntitanic_df['Age'].dropna().astype(int).hist(bins=100, ax= axis1)\n\nrand1= np.random.randint(titanic_age_mean - titanic_age_std, titanic_age_mean +titanic_age_std ,size=titanic_nan_count)\nrand2= np.random.randint(test_age_mean - test_age_std,  test_age_mean + test_age_std ,size=test_nan_count)\n\ntitanic_df['Age'][np.isnan(titanic_df['Age'])]=rand1\ntest_df['Age'][np.isnan(test_df['Age'])]= rand2\n\n\ntitanic_df['Age']= titanic_df['Age'].astype(int)\ntest_df['Age']= test_df['Age'].astype(int)\n\ntitanic_df['Age'].hist(bins=100,ax= axis2)\n#test_df.hist(bins=100)",
      "execution_count": null,
      "outputs": []
    },
    {
      "metadata": {
        "_execution_state": "idle",
        "_uuid": "806712e076b2bf0e8c1a3ffd9dcdee4b0ead3e30",
        "collapsed": true,
        "_cell_guid": "74121e24-f9c5-e6af-0739-653eaab38fb8",
        "trusted": false
      },
      "cell_type": "code",
      "source": "# Cabin\ntitanic_df.drop(\"Cabin\",axis=1,inplace=True)\ntest_df.drop(\"Cabin\",axis=1,inplace=True)\n\n",
      "execution_count": null,
      "outputs": []
    },
    {
      "metadata": {
        "_execution_state": "idle",
        "_uuid": "a237b87c2c467ce010acf10f03b286ccc0787805",
        "collapsed": true,
        "_cell_guid": "557feb44-dcc7-2ac0-eb27-a7c2af712b21",
        "trusted": false
      },
      "cell_type": "code",
      "source": "#family\n\ntitanic_df['Family'] =  titanic_df[\"Parch\"] + titanic_df[\"SibSp\"]\ntitanic_df['Family'].loc[titanic_df['Family'] > 0] = 1\ntitanic_df['Family'].loc[titanic_df['Family'] == 0] = 0\n\ntest_df['Family'] =  test_df[\"Parch\"] + test_df[\"SibSp\"]\ntest_df['Family'].loc[test_df['Family'] > 0] = 1\ntest_df['Family'].loc[test_df['Family'] == 0] = 0\n\n# drop Parch & SibSp\ntitanic_df = titanic_df.drop(['SibSp','Parch'], axis=1)\ntest_df    = test_df.drop(['SibSp','Parch'], axis=1)\n\n# plot\nfig, (axis1,axis2) = plt.subplots(1,2,sharex=True,figsize=(10,5))\nsns.countplot(x='Family',data= titanic_df, order= [1,0] ,ax=axis1)\n\nfamily_group= titanic_df[['Family','Survived']].groupby('Family', as_index= False).mean()\nsns.barplot(x=\"Family\", y= 'Survived', data= family_group, order=[1,0],ax=axis2)\n",
      "execution_count": null,
      "outputs": []
    },
    {
      "metadata": {
        "_execution_state": "idle",
        "_uuid": "8b7197a129d291c9c3aaa67f412292d87ed4012e",
        "collapsed": true,
        "_cell_guid": "b233fc2e-1fca-fdd1-63fe-595884388338",
        "trusted": false
      },
      "cell_type": "code",
      "source": "#sex\nfig, (axis1, axis2)= plt.subplots(1,2,figsize=(10,5))\n\nsns.countplot(x='Sex',data=titanic_df,ax=axis1)\nsns.countplot(x='Sex',data=test_df,ax=axis2)\n\ndef get_person(person):\n    sex, age= person\n    return \"child\" if age< 14 else sex\n\ntitanic_df['person']= titanic_df[['Sex','Age']].apply(get_person , axis=1)\ntest_df['person']= titanic_df[['Sex','Age']].apply(get_person, axis=1 )\n\ntitanic_df.drop('Sex', axis=1, inplace= True)\ntest_df.drop('Sex', axis=1 , inplace= True)",
      "execution_count": null,
      "outputs": []
    },
    {
      "metadata": {
        "_execution_state": "idle",
        "_uuid": "343d65bc0700a6d6fe29d56a0cf533e9142cc400",
        "collapsed": true,
        "_cell_guid": "ebea69fe-9c6d-9dd6-fb8b-04b718cf3448",
        "trusted": false
      },
      "cell_type": "code",
      "source": "#continue sex\n\nperson_dummies_titanic= pd.get_dummies(titanic_df['person'])\nperson_dummies_titanic_columns= ['child', 'female','male']\nperson_dummies_titanic.drop(['male'], axis=1, inplace= True)\n\nperson_dummies_test= pd.get_dummies(test_df['person'])\nperson_dummies_test_columns= ['child', 'female','male']\nperson_dummies_test.drop(['male'], axis=1, inplace= True)\n\ntitanic_df.join(person_dummies_titanic)\ntest_df.join(person_dummies_test)\n\nfig, (axis1, axis2)= plt.subplots(1,2, figsize= (10,5))\n\nsns.countplot(x='person', data= titanic_df, ax=axis1)\n\nperson_group= titanic_df[['person','Survived']].groupby('person', as_index=False).mean()\nsns.barplot(x='person',y='Survived',data=person_group,order=['child','female','male'],ax= axis2)\n\ntitanic_df.drop(['person'],axis=1,inplace=True)\ntest_df.drop(['person'],axis=1,inplace=True)",
      "execution_count": null,
      "outputs": []
    },
    {
      "metadata": {
        "_execution_state": "idle",
        "_uuid": "98babc83cb6691ead6ada1e2e8b505327947aca0",
        "collapsed": true,
        "_cell_guid": "f2e9a12b-870f-0213-b8e7-0d87124fd16e",
        "trusted": false
      },
      "cell_type": "code",
      "source": "#pcclass\npc_group= titanic_df[['Pclass','Survived']].groupby('Pclass',as_index=False).mean()\nsns.barplot(x='Pclass',y='Survived',data=pc_group)\n\n\nPclass_dummies_titanic= pd.get_dummies(titanic_df['Pclass'])\nPclass_dummies_titanic_columns= ['class1','class2','class3']\nPclass_dummies_titanic.drop(['class3'],axis=1,inplace=True)\n\nPclass_dummies_test= pd.get_dummies(test_df['Pclass'])\nPclass_dummies_test_columns= ['class1','class2','class3']\nPclass_dummies_test.drop(['class3'],axis=1,inplace=True)\n\ntitanic_df= titanic_df.join(Pclass_dummies_titanic)\ntest_df= test_df.join(Pclass_dummies_test)\n\ntitanic_df.drop(['Pclass'],axis=1,inplace=True)\ntest_df.drop(['Pclass'],axis=1,inplace=True)",
      "execution_count": null,
      "outputs": []
    },
    {
      "metadata": {
        "_execution_state": "idle",
        "_uuid": "c060f91c5a909a68da1030f040bf7cea9758eab5",
        "collapsed": true,
        "_cell_guid": "75b34452-7ce9-5c74-7261-6b3b4ee3a0e4",
        "trusted": false
      },
      "cell_type": "code",
      "source": "X_train= titanic_df.drop('Survived',axis=1)\nY_train= titanic_df['Survived']\n\nX_test= test_df",
      "execution_count": null,
      "outputs": []
    },
    {
      "metadata": {
        "_execution_state": "idle",
        "_uuid": "ca45f5d378849298373d564704b555e61322e85c",
        "collapsed": true,
        "_cell_guid": "c736b790-14d5-fe55-a6c0-3024c85cab52",
        "trusted": false
      },
      "cell_type": "code",
      "source": "# Logistic Regression\nlogreg = LogisticRegression()\nlogreg.fit(X_train, Y_train)\nY_pred = logreg.predict(X_test)\nlogreg.score(X_train, Y_train)",
      "execution_count": null,
      "outputs": []
    },
    {
      "metadata": {
        "_execution_state": "busy",
        "_uuid": "3b38211eff6eb3bf2824ae576a73dd09d7213ae1",
        "collapsed": true,
        "_cell_guid": "8094a382-cd32-c274-e8c8-fb4e0645c3eb",
        "trusted": false
      },
      "cell_type": "code",
      "source": "# Random Forests\n\nrandom_forest = RandomForestClassifier(n_estimators=100)\n\nrandom_forest.fit(X_train, Y_train)\nY_pred = random_forest.predict(X_test)\nrandom_forest.score(X_train, Y_train)\n",
      "execution_count": null,
      "outputs": []
    },
    {
      "metadata": {
        "_uuid": "9fc454f83acac13366a172f3e1827340fa773d4c",
        "collapsed": true,
        "_cell_guid": "6a8d0eff-abc9-4a08-8563-f70d37b164b0",
        "trusted": false
      },
      "cell_type": "code",
      "source": "",
      "execution_count": null,
      "outputs": []
    }
  ],
  "metadata": {
    "_change_revision": 0,
    "_is_fork": false,
    "language_info": {
      "name": "python",
      "version": "3.6.1",
      "nbconvert_exporter": "python",
      "pygments_lexer": "ipython3",
      "mimetype": "text/x-python",
      "file_extension": ".py",
      "codemirror_mode": {
        "name": "ipython",
        "version": 3
      }
    },
    "kernelspec": {
      "display_name": "Python 3",
      "language": "python",
      "name": "python3"
    }
  },
  "nbformat": 4,
  "nbformat_minor": 1
}